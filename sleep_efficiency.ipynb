{
  "nbformat": 4,
  "nbformat_minor": 0,
  "metadata": {
    "colab": {
      "provenance": []
    },
    "kernelspec": {
      "name": "python3",
      "display_name": "Python 3"
    },
    "language_info": {
      "name": "python"
    }
  },
  "cells": [
    {
      "cell_type": "markdown",
      "source": [
        "# Sleep Efficiency Analyzation and Prediction Tool"
      ],
      "metadata": {
        "id": "sLMHiUc5JUrb"
      }
    },
    {
      "cell_type": "markdown",
      "source": [
        "# Initialization\n",
        "- The first cell will import all libraries and dependencies.\n",
        "- The dataset is loaded and the data cleaned by removing unwanted columns and categorizing columns from text to numerical values.\n",
        "- Training and testing variables are created and applied to the dataset.\n",
        "- A Random Forest Regression model is initiated and generates predictions using the training data.\n",
        "- An r2 and mean absolute efficiency score is generated and presented to display accuracy."
      ],
      "metadata": {
        "id": "S8YOVnelkE4V"
      }
    },
    {
      "cell_type": "code",
      "source": [
        "# Import libraries and dependencies\n",
        "\n",
        "import pandas as pd\n",
        "from sklearn.model_selection import train_test_split\n",
        "from sklearn.preprocessing import LabelEncoder\n",
        "from sklearn.ensemble import RandomForestRegressor\n",
        "from sklearn.metrics import mean_absolute_error, r2_score\n",
        "import numpy as np\n",
        "import seaborn as sns\n",
        "import matplotlib.pyplot as plt\n",
        "import ipywidgets as widgets\n",
        "from IPython.display import display, clear_output"
      ],
      "metadata": {
        "id": "xHVjg7G-qUnG"
      },
      "execution_count": null,
      "outputs": []
    },
    {
      "cell_type": "code",
      "source": [
        "# Loading the dataset\n",
        "# By default, the hosted dataset will be downloaded and used.\n",
        "# An alternate_file_path can be used if local csv is preferred as a substitute.\n",
        "\n",
        "HOSTED = \"https://raw.githubusercontent.com/mike4278/Sleep_Efficiency/main/Sleep_Efficiency.csv\"\n",
        "LOCAL = \"Sleep_Efficiency.csv\"\n",
        "\n",
        "# To switch between hosted and local copy, adjust commented path commented below\n",
        "sleep_data = pd.read_csv(HOSTED)\n",
        "# sleep_data = pd.read_csv(LOCAL)\n",
        "\n",
        "# Clean dataset by dropping unneeded columns\n",
        "sleep_data = sleep_data.drop(['ID', 'Bedtime', 'Wakeup time'], axis=1)\n",
        "\n",
        "# Categorize text columns with Label Encoder\n",
        "label_encoder = LabelEncoder()\n",
        "sleep_data[\"Gender\"] = label_encoder.fit_transform(sleep_data[\"Gender\"])\n",
        "sleep_data[\"Smoking status\"] = label_encoder.fit_transform(\n",
        "    sleep_data[\"Smoking status\"])\n",
        "\n",
        "# Define inputs (X) and outputs (y)\n",
        "X = sleep_data[[\"Age\", \"Gender\", \"Sleep duration\", \"Awakenings\",\n",
        "                \"Alcohol consumption\", \"Smoking status\", \"Exercise frequency\"]]\n",
        "y = sleep_data[[\"Sleep efficiency\"]]\n",
        "\n",
        "# Split data\n",
        "X_train, X_test, y_train, y_test = train_test_split(X, y, test_size = 0.2,\n",
        "                                                    random_state=42)\n",
        "\n",
        "# Initialize model with RandomForestRegressor\n",
        "model = RandomForestRegressor()\n",
        "model.fit(X_train, y_train)\n",
        "\n",
        "# Make predictions\n",
        "y_pred = model.predict(X_test)\n"
      ],
      "metadata": {
        "id": "Qu3xQnVlJWxf"
      },
      "execution_count": null,
      "outputs": []
    },
    {
      "cell_type": "code",
      "source": [
        "# Evaluate Sleep Efficiency\n",
        "r2_eff = r2_score(y_test, y_pred)\n",
        "mae_eff = mean_absolute_error(y_test, y_pred)\n",
        "\n",
        "print(f\"Sleep Efficiency - R2: {r2_eff:.2f}, MAE: {mae_eff:.2f}\")"
      ],
      "metadata": {
        "id": "3htJEcMGLNDt"
      },
      "execution_count": null,
      "outputs": []
    },
    {
      "cell_type": "markdown",
      "source": [
        "# Model Visualizations\n",
        "- Model visualizations are generated using seaborn, matplotlib, and numpy.\n",
        "- A scatter plot is displayed to showcase prediction accuracy, comparing the actual data to the predictions.\n",
        "- A histogram is generated to display the frequency of various sleep efficiency results.\n",
        "- A bar plot is presented to indicate which factors most influence the sleep efficiency score.\n",
        "- Several boxplots are used to show the relationship between the identified important features and sleep efficiency, including awakenings, alcohol consumption, smoking status, and exercise frequency."
      ],
      "metadata": {
        "id": "RiarG75JkPG-"
      }
    },
    {
      "cell_type": "code",
      "source": [
        "# Scatter plot of actual vs. predicted\n",
        "plt.figure(figsize=(8,6))\n",
        "plt.scatter(y_test, y_pred, alpha=0.5)\n",
        "# Add 45 degree reference line\n",
        "plt.plot([y_test.min(), y_test.max()], [y_test.min(), y_test.max()], 'r', lw=2)\n",
        "plt.xlabel(\"Actual sleep Efficiency\")\n",
        "plt.ylabel(\"Predicted Sleep Efficiency\")\n",
        "plt.title(\"Actual vs Predicted Sleep Efficiency\")\n",
        "plt.show()"
      ],
      "metadata": {
        "id": "a30ZwaDwTnsI"
      },
      "execution_count": null,
      "outputs": []
    },
    {
      "cell_type": "code",
      "source": [
        "# Histogram of Sleep Efficiency Distribution\n",
        "plt.figure(figsize=(8, 5))\n",
        "sns.histplot(sleep_data[\"Sleep efficiency\"], kde=True, bins=30, color=\"blue\")\n",
        "plt.xlabel(\"Sleep Efficiency (%)\")\n",
        "plt.ylabel(\"Frequency\")\n",
        "plt.title(\"Distribution of Sleep Efficiency\")\n",
        "plt.show()\n"
      ],
      "metadata": {
        "id": "RHCVWTYXas0k"
      },
      "execution_count": null,
      "outputs": []
    },
    {
      "cell_type": "code",
      "source": [
        "# Bar plot of Important Features\n",
        "importances = model.feature_importances_\n",
        "feature_names = X.columns\n",
        "\n",
        "plt.figure(figsize=(10,5))\n",
        "sns.barplot(x=importances, y=feature_names, palette=\"viridis\")\n",
        "plt.xlabel(\"Feature Importance Score\")\n",
        "plt.ylabel(\"Feature\")\n",
        "plt.title(\"Feature Importance for Sleep Efficiency\")\n",
        "plt.show()"
      ],
      "metadata": {
        "id": "qd-so6JBUbim"
      },
      "execution_count": null,
      "outputs": []
    },
    {
      "cell_type": "code",
      "source": [
        "# Sleep Efficiency vs. Awakenings Boxplot\n",
        "plt.figure(figsize=(8, 5))\n",
        "sns.boxplot(x=sleep_data[\"Awakenings\"], y=sleep_data[\"Sleep efficiency\"], palette=\"coolwarm\")\n",
        "plt.xlabel(\"Awakenings\")\n",
        "plt.ylabel(\"Sleep Efficiency (%)\")\n",
        "plt.title(\"Sleep Efficiency vs. Awakenings\")\n",
        "plt.show()"
      ],
      "metadata": {
        "id": "U6pP8DGca4gq"
      },
      "execution_count": null,
      "outputs": []
    },
    {
      "cell_type": "code",
      "source": [
        "# Sleep Efficiency vs. Alcohol consumption Boxplot\n",
        "plt.figure(figsize=(8, 5))\n",
        "sns.boxplot(x=sleep_data[\"Alcohol consumption\"], y=sleep_data[\"Sleep efficiency\"], palette=\"coolwarm\")\n",
        "plt.xlabel(\"Alcohol consumption\")\n",
        "plt.ylabel(\"Sleep Efficiency (%)\")\n",
        "plt.title(\"Sleep Efficiency vs. Alcohol consumption\")\n",
        "plt.show()"
      ],
      "metadata": {
        "id": "-xR2aGE7GMz4"
      },
      "execution_count": null,
      "outputs": []
    },
    {
      "cell_type": "code",
      "source": [
        "# Sleep Efficiency vs. Smoking status Boxplot\n",
        "plt.figure(figsize=(8, 5))\n",
        "sns.boxplot(x=sleep_data[\"Smoking status\"], y=sleep_data[\"Sleep efficiency\"], palette=\"coolwarm\")\n",
        "plt.xlabel(\"Smoking status\")\n",
        "plt.ylabel(\"Sleep Efficiency (%)\")\n",
        "plt.title(\"Sleep Efficiency vs. Smoking status\")\n",
        "plt.show()"
      ],
      "metadata": {
        "id": "_kS8y9QoGKo4"
      },
      "execution_count": null,
      "outputs": []
    },
    {
      "cell_type": "code",
      "source": [
        "# Sleep Efficiency vs. Exercise Frequency Boxplot\n",
        "plt.figure(figsize=(8, 5))\n",
        "sns.boxplot(x=sleep_data[\"Exercise frequency\"], y=sleep_data[\"Sleep efficiency\"], palette=\"coolwarm\")\n",
        "plt.xlabel(\"Exercise Frequency (Days per Week)\")\n",
        "plt.ylabel(\"Sleep Efficiency (%)\")\n",
        "plt.title(\"Sleep Efficiency vs. Exercise Frequency\")\n",
        "plt.show()"
      ],
      "metadata": {
        "id": "cs4mwJCRF44G"
      },
      "execution_count": null,
      "outputs": []
    },
    {
      "cell_type": "markdown",
      "source": [
        "# Interactive Input\n",
        "- Using the dataset and model that has been created, users can enter customized entries to predict sleep efficiency results.\n",
        "- Users are encouraged to experiment with input settings to determine which lifestyle changes will have the biggest impact on their desired sleep efficiency results.\n",
        "- Once a desirable sleep efficiency result has been generated with obtainable lifestyle habit goals, a Sleep Improvement Plan can initiated."
      ],
      "metadata": {
        "id": "SSsTpzyoFBof"
      }
    },
    {
      "cell_type": "code",
      "source": [
        "# Create input widgets for user form\n",
        "age_input = widgets.IntText(value=30, description='Age:', min=0, max=120, style={'description_width': 'initial'})\n",
        "sleep_duration_input = widgets.FloatText(value=7.0, description='Sleep Duration (hrs):', min=0, max=24, style={'description_width': 'initial'})\n",
        "awakenings_input = widgets.IntText(value=1, description='Awakenings:', min=0, max=10, style={'description_width': 'initial'})\n",
        "alcoholic_beverages_input = widgets.IntText(value=0, description='Alcohol Beverages:', min=0, max=10, style={'description_width': 'initial'})\n",
        "exercise_days_input = widgets.IntSlider(value=3, min=0, max=7, step=1, description='Exercise Days per Week:', style={'description_width': 'initial'})\n",
        "gender_input = widgets.RadioButtons(\n",
        "    options=['Male', 'Female', 'Other'],\n",
        "    description='Gender:',\n",
        "    disabled=False,\n",
        "    style={'description_width': 'initial'}\n",
        ")\n",
        "smoker_input = widgets.RadioButtons(\n",
        "    options=['Yes', 'No'],\n",
        "    description='Smoker:',\n",
        "    disabled=False,\n",
        "    style={'description_width': 'initial'}\n",
        ")\n",
        "\n",
        "# Display input widgets\n",
        "display(age_input, sleep_duration_input, awakenings_input, alcoholic_beverages_input, exercise_days_input, gender_input, smoker_input)\n",
        "\n",
        "# Output widget to display results\n",
        "output = widgets.Output()\n",
        "\n",
        "# Button to submit inputs and predict sleep efficiency value\n",
        "submit_button = widgets.Button(description=\"Submit & Predict\")\n",
        "\n",
        "# Button to reset the output display\n",
        "reset_button = widgets.Button(description=\"Clear Output Display\")\n",
        "\n",
        "# Function to process user input and make a prediction\n",
        "def on_submit_button_clicked(b):\n",
        "    with output:\n",
        "        # Capture user inputs\n",
        "        user_data = {\n",
        "            'Age': age_input.value,\n",
        "            'Gender': 1 if gender_input.value == 'Male' else 0,  # Encode gender (1=Male, 0=Female/Other)\n",
        "            'Sleep duration': sleep_duration_input.value,\n",
        "            'Awakenings': awakenings_input.value,\n",
        "            'Alcohol consumption': alcoholic_beverages_input.value,\n",
        "            'Smoking status': 1 if smoker_input.value == 'Yes' else 0,  # Encode smoker (1=Yes, 0=No)\n",
        "            'Exercise frequency': exercise_days_input.value\n",
        "        }\n",
        "\n",
        "        # Convert user input into DataFrame\n",
        "        user_df = pd.DataFrame([user_data])\n",
        "\n",
        "        # Make a prediction & extract predicted value\n",
        "        predicted_efficiency = model.predict(user_df)[0]\n",
        "\n",
        "        # Display user inputs and prediction in the output area\n",
        "        print(\"\\nUser Input:\")\n",
        "        for key, value in user_data.items():\n",
        "            print(f\"{key}: {value}\")\n",
        "\n",
        "        print(f\"\\nPredicted Sleep Efficiency: {predicted_efficiency:.2f}%\")\n",
        "\n",
        "# Reset function\n",
        "def reset_output(b):\n",
        "    with output:\n",
        "        clear_output()\n",
        "\n",
        "# Add button click events\n",
        "submit_button.on_click(on_submit_button_clicked)\n",
        "reset_button.on_click(reset_output)\n",
        "\n",
        "# Display the submit button, output area, and reset button\n",
        "display(submit_button, output)\n",
        "display(reset_button)\n"
      ],
      "metadata": {
        "id": "nhghPvdgN-Jp"
      },
      "execution_count": null,
      "outputs": []
    }
  ]
}